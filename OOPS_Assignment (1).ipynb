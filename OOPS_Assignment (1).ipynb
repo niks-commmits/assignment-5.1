{
  "nbformat": 4,
  "nbformat_minor": 0,
  "metadata": {
    "colab": {
      "provenance": []
    },
    "kernelspec": {
      "name": "python3",
      "display_name": "Python 3"
    },
    "language_info": {
      "name": "python"
    }
  },
  "cells": [
    {
      "cell_type": "markdown",
      "source": [],
      "metadata": {
        "id": "QJgX2JUw8j7V"
      }
    },
    {
      "cell_type": "markdown",
      "source": [
        "1.\tWhat is Object-Oriented Programming (OOP)?\n",
        "\n",
        "  - \tObject-Oriented Programming (OOP) is a programming paradigm that  \n",
        "      organizes software design         around objects, which are instances of classes. In OOP, objects represent real-world entities      and contain both data (attributes) and methods (functions that operate on the data). OOP is        centered on four key principles:\n",
        "  -\tEncapsulation\n",
        "  -\tAbstraction\n",
        "  -\tInheritance\n",
        "  -\tPolymorphism\n",
        "\n",
        "2.\tWhat is a class in OOP?\n",
        "\n",
        "  - \tIn Object-Oriented Programming (OOP), a class is a blueprint or template\n",
        "      for creating objects.     It defines the structure and behavior that the objects created from the class will have.           Essentially, a class specifies:\n",
        "-\t    Attributes (or properties): These are variables that store the state or   \n",
        "      data of an object.\n",
        "-\t    Methods: These are functions defined within a class that describe the\n",
        "      behaviors or actions that the objects can perform.\n",
        "\n",
        "3.\tWhat is an object in OOP?\n",
        "\n",
        "  - \tIn Object-Oriented Programming (OOP), an object is an instance of a  \n",
        "      class. It represents a real-world entity or concept and bundles together data (attributes or properties) and behavior (methods or functions) into a single entity.\n",
        "\n",
        "4.\tWhat is the difference between abstraction and encapsulation?\n",
        "\n",
        "    - Abstraction:-\n",
        "      Abstraction is the process of hiding the complexity of a system and exposing only the essential features or functionalities to the user. It allows developers to focus on what an object does rather than how it does it.\n",
        "\n",
        "        Encapsulation:-\n",
        "        Encapsulation is the technique of bundling data (attributes) and methods (functions) that operate on the data into a single unit (a class) while restricting access to some components of the object to maintain control and security.\n",
        "\n",
        "5.\tWhat are dunder methods in Python?\n",
        "\n",
        "    - \tIn Python, dunder methods (short for \"double underscore methods\") are   \n",
        "        special methods that are defined with double underscores before and after their names, such as __init__, __str__, and __add__. They are also referred to as magic methods or special methods.\n",
        "        Dunder methods enable objects to behave like built-in types and allow you to customize their behavior for specific operations (e.g., addition, comparison, string representation).\n",
        "\n",
        "6.\tExplain the concept of inheritance in OOP?\n",
        "    - \tInheritance in Object-Oriented Programming (OOP) is a fundamental\n",
        "        concept where one class (called the child class or subclass) can acquire the properties and methods of another class (called the parent class or superclass). It allows for code reuse and establishes a relationship between the parent and child classes.\n",
        "\n",
        "7.\tWhat is polymorphism in OOP?\n",
        "\n",
        "    - \tPolymorphism in Object-Oriented Programming (OOP) refers to the ability\n",
        "        of different objects to respond to the same method or function call in different ways. It allows one interface to be used for a general class of actions, enabling flexibility and extensibility in code.\n",
        "\n",
        "8.\tHow is encapsulation achieved in Python?\n",
        "\n",
        "    - \tEncapsulation in Python is a fundamental principle of Object-Oriented\n",
        "        Programming (OOP) that restricts direct access to an object's data and methods to protect them from unwanted interference and misuse. It is achieved by bundling the data (attributes) and methods that operate on the data into a single unit (class) and controlling their visibility.\n",
        "\n",
        "9.\tWhat is a constructor in Python?\n",
        "\n",
        "    - In Python, a constructor is a special method that is automatically called\n",
        "      when an object of a class is created. Its primary purpose is to initialize the attributes of the class.\n",
        "\n",
        "\n",
        "10.\tWhat are class and static methods in Python?\n",
        "\n",
        "    - \tA class method is a method that is bound to the class itself, not the\n",
        "        instance of the class. It has access to the class through a special parameter, typically named cls, and can modify class-level data or behaviors.\n",
        "\n",
        "        A static method is a method that belongs to the class but does not have access to the class (cls) or instance (self). It behaves like a regular function but is defined inside the class for organizational purposes.\n",
        "\n",
        "11.\tWhat is method overloading in Python?\n",
        "\n",
        "    - \tMethod overloading is a concept in Object-Oriented Programming (OOP)\n",
        "        where multiple methods in the same class share the same name but differ in the number or type of parameters. In Python, true method overloading is not directly supported because Python does not allow multiple methods with the same name within a class.\n",
        "12.\tWhat is method overriding in OOP ?\n",
        "\n",
        "    - \tMethod overriding is a concept in Object-Oriented Programming (OOP)\n",
        "        where a subclass provides a specific implementation of a method that is already defined in its superclass. The method in the subclass must have the same name, signature (parameters), and return type as the method in the parent class. This allows the subclass to \"override\" the behavior of the method.\n",
        "\n",
        "13.\tWhat is a property decorator in Python ?\n",
        "\n",
        "    - \tIn Python, the @property decorator is used to define a method that  behaves like an attribute of a class. It allows you to define methods that can be accessed like attributes, but internally, you can add logic to get, set, or delete values. This is especially useful when you want to control access to an attribute and provide a way to customize how it is read or modified, while keeping the external interface clean and simple.\n",
        "\n",
        "14.\tWhy is polymorphism important in OOP ?\n",
        "    -\t Polymorphism is one of the four fundamental principles ofObject -\n",
        "       Oriented Programming (OOP) and refers to the ability of different objects to respond to the same method or function call in a way that is appropriate for their specific type. It allows for code flexibility, reusability, and extensibility by enabling different classes to provide their own implementation of methods defined in a common interface or superclass.\n",
        "\n",
        "15.\tWhat is an abstract class in Python ?\n",
        "\n",
        "    - \tAn abstract class in Python is a class that cannot be instantiated      directly. It serves as a blueprint for other classes. Abstract classes allow you to define methods that must be implemented by subclasses, but they may also contain some implementation. The primary purpose of an abstract class is to provide a common interface for a group of related classes.\n",
        "\n",
        "16.\tWhat are the advantages of OOP ?\n",
        "\n",
        "    - \tObject-Oriented Programming (OOP) is a programming paradigm that  organizes code into \"objects\"—self-contained units that bundle data and the methods that operate on that data. OOP promotes concepts like inheritance, encapsulation, polymorphism, and abstraction, which offer numerous advantages over other programming paradigms, such as procedural programming.\n",
        "\n",
        "17.\tWhat is the difference between a class variable and an instance variable ?\n",
        "\n",
        "    - \tClass Variable:-\n",
        "\n",
        "    -\t   Class variables are variables that are shared among all instances     (objects) of a class. They are defined inside the class but outside any methods, and they hold values that are common to all instances of that class.\n",
        "    - \t  Class variables belong to the class itself and are accessed using the\n",
        "          class name or any instance of the class.\n",
        "    - \t  Since they are shared across all instances, any change made to a  \n",
        "          class variable will affect all instances of the class.\n",
        "\n",
        "    -\tInstance variable:-\n",
        "\n",
        "    -\t Instance variables are variables that are specific to each instance (object) of a class. They are typically defined inside the __init__ method and are prefixed with self to make them unique to each object.\n",
        "    -\tInstance variables belong to individual instances of the class and are accessed through those instances.\n",
        "    -\t Each instance has its own copy of the instance variables, and changes made to an instance variable affect only that instance.\n",
        "\n",
        "18.\tWhat is multiple inheritance in Python ?\n",
        "\n",
        "    - \tMultiple inheritance in Python refers to a feature where a class can inherit attributes and methods from more than one parent class. This allows a subclass to combine the behavior and properties of multiple parent classes, which can be useful in cases where you need to model objects with multiple distinct sets of behavior.\n",
        "\n",
        "19.\tExplain the purpose of ‘’__str__’ and ‘__repr__’ ‘ methods in Python.\n",
        "\n",
        "    -   __str__ Method:-\n",
        "      The __str__ method is used to define a \"user-friendly\" or informal string representation of an object. It is called when you print an object or convert it to a string using str(). The goal of __str__ is to provide a string that is easy for humans to read and understand.\n",
        "    -\tPurpose: The __str__ method is used for providing a readable or presentable string representation of the object, typically for display purposes.\n",
        "    -\tUse Case: This is what is shown when you use the print() function on an object or call str().\n",
        "    \n",
        "      The __repr__ method is used to define an \"official\" or formal string representation of an object, primarily for developers and debugging purposes. The goal of __repr__ is to provide a string that can ideally be used to recreate the object using eval(), or at least provide enough information to reconstruct the object’s state.\n",
        "\n",
        "      •\tPurpose: The __repr__ method is used for the official or developer-facing string representation of the object. It’s meant to be more unambiguous and detailed than __str__.\n",
        "      •\tUse Case: This is what is shown when you call repr() on an object or use the object in a REPL (interactive shell).\n",
        "\n",
        "20.\tWhat is the significance of the ‘super()’ function in Python ?\n",
        "\n",
        "    - \tThe super() function in Python is used to call methods from a parent or\n",
        "        superclass within a subclass. It is typically used to invoke a method from the parent class in a way that allows you to extend or modify the behavior of that method in the subclass.\n",
        "\n",
        "\n",
        "\n",
        "\n",
        "21.\tWhat is the significance of the __del__ method in Python?\n",
        "\n",
        "    - \tThe __del__ method in Python is a special method known as the   \n",
        "        destructor. It is called when an object is about to be destroyed or deallocated, i.e., when its reference count drops to zero and the garbage collector is about to reclaim the memory. The __del__ method is primarily used for cleaning up resources that an object may have acquired during its lifetime .\n",
        "\n",
        "22.\tWhat is the difference between @staticmethod and @classmethod in Python?\n",
        "@staticmethod :-\n",
        "\n",
        "    - \tIt does not take self or cls as a parameter.\n",
        "    - \tIt cannot access or modify the state of the instance or class.\n",
        "    -   It behaves like a regular function but resides within the class.\n",
        "    -\t  It can be called on the class or an instance.\n",
        "\n",
        "    @ Classmethod :-\n",
        "\n",
        "    - \tIt takes cls as the first parameter, which represents the class itself.\n",
        "    -   It can access and modify class-level attributes.\n",
        "    -   It cannot access instance-specific data (i.e., it cannot access self\n",
        "        directly).\n",
        "    -  It can be called on the class itself or an instance, but it works with\n",
        "       the class-  level data.\n",
        "\n",
        "23.\tHow does polymorphism work in Python with inheritance ?\n",
        "\n",
        "    - \tIn Python, polymorphism works by allowing a subclass to override or   extend the functionality of a method defined in its parent class. This  means that you can call the same method on objects of different classes, and each class can implement the method differently.\n",
        "\n",
        "\n",
        "24.\tWhat is method chaining in Python OOP ?\n",
        "\n",
        "    - \tMethod chaining in Python OOP refers to the practice of calling  \n",
        "        multiple methods on the same object in a single line of code, where each method call returns the object itself (or another object that supports further method calls). This allows you to \"chain\" multiple method calls together without needing to store intermediate results in separate variables.\n",
        "\n",
        "25.\tWhat is the purpose of the __call__ method in Python?\n",
        "\n",
        "    -\t Make an Object Callable: By implementing __call__, we can make an object\n",
        "       behave like a function, allowing you to invoke the object with parentheses and pass arguments, just like a normal function call.\n",
        "    -\t Custom Behavior for Function-Like Objects: It enables objects to encapsulate logic that would normally be in a function, but with the added power of being able to store state and carry more complex behavior, as they are instances of a class.\n",
        "\n",
        "\n",
        "\n",
        "\n",
        "\n",
        "\n",
        "\n",
        "\n",
        "\n",
        "\n",
        "\n",
        "\n",
        "\n",
        "\n"
      ],
      "metadata": {
        "id": "9QrhwE7m8mBz"
      }
    },
    {
      "cell_type": "code",
      "source": [
        "# 1. Create a parent class Animal with a method speak() that prints a generic message.\n",
        "# Create a child class Dog that overrides the speak() method to print \"Bark!\".\n",
        "class Animal:\n",
        "    def speak(self):\n",
        "        print(\"Animal makes a sound\")\n",
        "\n",
        "\n",
        "class Dog(Animal):\n",
        "    def speak(self):\n",
        "        print(\"Bark!\")\n",
        "\n",
        "\n",
        "anm = Animal()\n",
        "anm.speak()\n",
        "\n",
        "dog = Dog()\n",
        "dog.speak()\n"
      ],
      "metadata": {
        "colab": {
          "base_uri": "https://localhost:8080/"
        },
        "id": "mCfJJEzHCiXf",
        "outputId": "5491f57d-a9f6-4617-f4be-456e5594925e"
      },
      "execution_count": null,
      "outputs": [
        {
          "output_type": "stream",
          "name": "stdout",
          "text": [
            "Animal makes a sound\n",
            "Bark!\n"
          ]
        }
      ]
    },
    {
      "cell_type": "code",
      "source": [
        "# 2. Write a program to create an abstract class Shape with a method area().\n",
        "# Derive classes Circle and Rectangle from it and implement the area() method in both.\n",
        "\n",
        "from abc import ABC, abstractmethod\n",
        "import math\n",
        "\n",
        "\n",
        "class Shape(ABC):\n",
        "    @abstractmethod\n",
        "    def area(self):\n",
        "        pass\n",
        "\n",
        "\n",
        "class Circle(Shape):\n",
        "    def __init__(self, radius):\n",
        "        self.radius = radius\n",
        "\n",
        "    def area(self):\n",
        "        return (3.14 * (self.radius ** 2))\n",
        "\n",
        "\n",
        "class Rectangle(Shape):\n",
        "    def __init__(self, width, height):\n",
        "        self.width = width\n",
        "        self.height = height\n",
        "\n",
        "    def area(self):\n",
        "        return self.width * self.height\n",
        "\n",
        "\n",
        "circle = Circle(10)\n",
        "print(\"Area of circle:\", circle.area())"
      ],
      "metadata": {
        "colab": {
          "base_uri": "https://localhost:8080/"
        },
        "id": "zMQmJOjJCxV0",
        "outputId": "064a0126-4845-4a7f-b52d-01ca7621d4c7"
      },
      "execution_count": null,
      "outputs": [
        {
          "output_type": "stream",
          "name": "stdout",
          "text": [
            "Area of circle: 314.0\n"
          ]
        }
      ]
    },
    {
      "cell_type": "code",
      "source": [
        "# 3. Implement a multi-level inheritance scenario where a class Vehicle has an attribute type.\n",
        "# Derive a class Car and further derive a class ElectricCar that adds a battery attribute.\n",
        "class Vehicle:\n",
        "    def __init__(self, type):\n",
        "        self.type = type\n",
        "\n",
        "    def display_type(self):\n",
        "        print(f\"Vehicle type: {self.type}\")\n",
        "\n",
        "\n",
        "class Car(Vehicle):\n",
        "    def __init__(self, type, make, model):\n",
        "        super().__init__(type)\n",
        "        self.make = make\n",
        "        self.model = model\n",
        "\n",
        "    def display_details(self):\n",
        "        print(f\"Car make: {self.make}, model: {self.model}\")\n",
        "\n",
        "\n",
        "class ElectricCar(Car):\n",
        "    def __init__(self, type, make, model, battery_capacity):\n",
        "        super().__init__(type, make, model)\n",
        "        self.battery_capacity = battery_capacity\n",
        "\n",
        "    def display_battery(self):\n",
        "        print(f\"ElectricCar battery capacity: {self.battery_capacity} kWh\")\n",
        "\n",
        "\n",
        "vehicle = Vehicle(\"Private Vehicle\")\n",
        "vehicle.display_type()\n",
        "\n",
        "car = Car(\"Car\", \"Tata\", \"Nexon\")\n",
        "car.display_type()\n",
        "car.display_details()\n",
        "\n",
        "electric_car = ElectricCar(\"Electric Car\", \"Hyundai\", \"Model 3\", 75)\n",
        "electric_car.display_type()"
      ],
      "metadata": {
        "colab": {
          "base_uri": "https://localhost:8080/"
        },
        "id": "hBefrhA-CxQN",
        "outputId": "e9196f09-adeb-46ae-a342-763716bdf639"
      },
      "execution_count": null,
      "outputs": [
        {
          "output_type": "stream",
          "name": "stdout",
          "text": [
            "Vehicle type: Private Vehicle\n",
            "Vehicle type: Car\n",
            "Car make: Tata, model: Nexon\n",
            "Vehicle type: Electric Car\n"
          ]
        }
      ]
    },
    {
      "cell_type": "code",
      "source": [
        "electric_car.display_details()"
      ],
      "metadata": {
        "colab": {
          "base_uri": "https://localhost:8080/"
        },
        "id": "4ye0QbYwCxM_",
        "outputId": "fb1c05fd-68ce-4af2-b153-539f9cf0c408"
      },
      "execution_count": null,
      "outputs": [
        {
          "output_type": "stream",
          "name": "stdout",
          "text": [
            "Car make: Hyundai, model: Model 3\n"
          ]
        }
      ]
    },
    {
      "cell_type": "code",
      "source": [
        "electric_car.display_battery()"
      ],
      "metadata": {
        "colab": {
          "base_uri": "https://localhost:8080/"
        },
        "id": "NL_t7x99CxJm",
        "outputId": "586f8f2b-ac6c-47ce-9c66-93c6bd315ecd"
      },
      "execution_count": null,
      "outputs": [
        {
          "output_type": "stream",
          "name": "stdout",
          "text": [
            "ElectricCar battery capacity: 75 kWh\n"
          ]
        }
      ]
    },
    {
      "cell_type": "code",
      "source": [
        "# 4. Implement a multi-level inheritance scenario where a class Vehicle has an attribute type.\n",
        "# Derive a class Car and further derive a class ElectricCar that adds a battery attribute.\n",
        "class Vehicle:\n",
        "    def __init__(self, type):\n",
        "        self.type = type\n",
        "\n",
        "    def display_type(self):\n",
        "        print(f\"Vehicle type: {self.type}\")\n",
        "\n",
        "\n",
        "class Car(Vehicle):\n",
        "    def __init__(self, type, make, model):\n",
        "        super().__init__(type)\n",
        "        self.make = make\n",
        "        self.model = model\n",
        "\n",
        "    def display_details(self):\n",
        "        print(f\"Car make: {self.make}, model: {self.model}\")\n",
        "\n",
        "\n",
        "class ElectricCar(Car):\n",
        "    def __init__(self, type, make, model, battery_capacity):\n",
        "        super().__init__(type, make, model)\n",
        "        self.battery_capacity = battery_capacity\n",
        "\n",
        "    def display_battery(self):\n",
        "        print(f\"ElectricCar battery capacity: {self.battery_capacity} kWh\")\n",
        "\n",
        "\n",
        "vehicle = Vehicle(\"Private Vehicle\")\n",
        "vehicle.display_type()\n",
        "\n",
        "car = Car(\"Car\", \"Tata\", \"Nexon\")\n",
        "car.display_type()\n",
        "car.display_details()\n",
        "\n",
        "electric_car = ElectricCar(\"Electric Car\", \"Hyundai\", \"Model 3\", 75)\n",
        "electric_car.display_type()"
      ],
      "metadata": {
        "id": "3OhvV-r9CxF3",
        "colab": {
          "base_uri": "https://localhost:8080/"
        },
        "outputId": "2ccc081a-72fc-4f16-b861-360f01e7ed78"
      },
      "execution_count": null,
      "outputs": [
        {
          "output_type": "stream",
          "name": "stdout",
          "text": [
            "Vehicle type: Private Vehicle\n",
            "Vehicle type: Car\n",
            "Car make: Tata, model: Nexon\n",
            "Vehicle type: Electric Car\n"
          ]
        }
      ]
    },
    {
      "cell_type": "code",
      "source": [
        "electric_car.display_details()"
      ],
      "metadata": {
        "id": "jCbPW6m4CxCM",
        "colab": {
          "base_uri": "https://localhost:8080/"
        },
        "outputId": "83a1b41a-4ac0-48da-e699-9949c6f9b90f"
      },
      "execution_count": null,
      "outputs": [
        {
          "output_type": "stream",
          "name": "stdout",
          "text": [
            "Car make: Hyundai, model: Model 3\n"
          ]
        }
      ]
    },
    {
      "cell_type": "code",
      "source": [
        "electric_car.display_battery()"
      ],
      "metadata": {
        "id": "L3OLq4aMCw58",
        "colab": {
          "base_uri": "https://localhost:8080/"
        },
        "outputId": "31a40e90-fd0c-4996-b516-69c8bd2cb146"
      },
      "execution_count": null,
      "outputs": [
        {
          "output_type": "stream",
          "name": "stdout",
          "text": [
            "ElectricCar battery capacity: 75 kWh\n"
          ]
        }
      ]
    },
    {
      "cell_type": "code",
      "source": [
        "# 5. Write a program to demonstrate encapsulation by creating a class BankAccount with private\n",
        "#     attributes balance and methods to deposit, withdraw, and check balance\n",
        "\n",
        "class BankAccount:\n",
        "    def __init__(self, initial_balance=0):\n",
        "        self.__balance = initial_balance\n",
        "\n",
        "\n",
        "    def deposit(self, amount):\n",
        "        if amount > 0:\n",
        "            self.__balance += amount\n",
        "            print(f\"Deposited: {amount}\")\n",
        "        else:\n",
        "            print(\"Deposit amount must be positive.\")\n",
        "\n",
        "\n",
        "    def withdraw(self, amount):\n",
        "        if amount > 0:\n",
        "            if amount <= self.__balance:\n",
        "                self.__balance -= amount\n",
        "                print(f\"Withdrew: {amount}\")\n",
        "            else:\n",
        "                print(\"Insufficient funds.\")\n",
        "        else:\n",
        "            print(\"Withdrawal amount must be positive.\")\n",
        "\n",
        "\n",
        "    def check_balance(self):\n",
        "        print(f\"Current balance: {self.__balance}\")\n",
        "\n",
        "\n",
        "account = BankAccount(500)\n",
        "account.check_balance()"
      ],
      "metadata": {
        "id": "c3WjucvRCww8",
        "colab": {
          "base_uri": "https://localhost:8080/"
        },
        "outputId": "79454e88-da83-4dfb-f193-50450297e13d"
      },
      "execution_count": null,
      "outputs": [
        {
          "output_type": "stream",
          "name": "stdout",
          "text": [
            "Current balance: 500\n"
          ]
        }
      ]
    },
    {
      "cell_type": "code",
      "source": [
        "account.deposit(150)\n",
        "account.check_balance()"
      ],
      "metadata": {
        "colab": {
          "base_uri": "https://localhost:8080/"
        },
        "id": "C2XkoCStmwft",
        "outputId": "34facb5e-86c6-4729-85a9-49c769ed5c62"
      },
      "execution_count": null,
      "outputs": [
        {
          "output_type": "stream",
          "name": "stdout",
          "text": [
            "Deposited: 150\n",
            "Current balance: 650\n"
          ]
        }
      ]
    },
    {
      "cell_type": "code",
      "source": [
        "account.withdraw(300)\n",
        "account.check_balance()"
      ],
      "metadata": {
        "colab": {
          "base_uri": "https://localhost:8080/"
        },
        "id": "nnIbs8b0mwcL",
        "outputId": "c849120f-3cb6-49a6-b65d-e87e843700a2"
      },
      "execution_count": null,
      "outputs": [
        {
          "output_type": "stream",
          "name": "stdout",
          "text": [
            "Withdrew: 300\n",
            "Current balance: 350\n"
          ]
        }
      ]
    },
    {
      "cell_type": "code",
      "source": [
        "account.withdraw(400)"
      ],
      "metadata": {
        "colab": {
          "base_uri": "https://localhost:8080/"
        },
        "id": "fI6nloOnmwYV",
        "outputId": "d9872707-0a0a-4d84-b982-a3491b573fea"
      },
      "execution_count": null,
      "outputs": [
        {
          "output_type": "stream",
          "name": "stdout",
          "text": [
            "Insufficient funds.\n"
          ]
        }
      ]
    },
    {
      "cell_type": "code",
      "source": [
        "# 6. Demonstrate runtime polymorphism using a method play() in a base class Instrument.\n",
        "#    Derive classes Guitar and Piano that implement their own version of play().\n",
        "\n",
        "\n",
        "class Instrument:\n",
        "    def play(self):\n",
        "        pass\n",
        "\n",
        "class Guitar(Instrument):\n",
        "    def play(self):\n",
        "        print(\"playing the guitar!\")\n",
        "\n",
        "class Piano(Instrument):\n",
        "    def play(self):\n",
        "        print(\"Playing the piano!\")\n",
        "\n",
        "def performance(instrument):\n",
        "    instrument.play()\n",
        "\n",
        "\n",
        "guitar = Guitar()\n",
        "piano = Piano()\n"
      ],
      "metadata": {
        "id": "tzd2zGBpmwQD"
      },
      "execution_count": null,
      "outputs": []
    },
    {
      "cell_type": "code",
      "source": [
        "performance(guitar)"
      ],
      "metadata": {
        "colab": {
          "base_uri": "https://localhost:8080/"
        },
        "id": "JA2UgikcmwKc",
        "outputId": "6b43ed6e-bd47-448d-99a7-0d23b97bc376"
      },
      "execution_count": null,
      "outputs": [
        {
          "output_type": "stream",
          "name": "stdout",
          "text": [
            "playing the guitar!\n"
          ]
        }
      ]
    },
    {
      "cell_type": "code",
      "source": [
        "performance(piano)"
      ],
      "metadata": {
        "colab": {
          "base_uri": "https://localhost:8080/"
        },
        "id": "bIoEaBUKmwBs",
        "outputId": "0cecb360-a87b-4e65-b4b1-765a665ba16f"
      },
      "execution_count": null,
      "outputs": [
        {
          "output_type": "stream",
          "name": "stdout",
          "text": [
            "Playing the piano!\n"
          ]
        }
      ]
    },
    {
      "cell_type": "code",
      "source": [
        "# 7. Create a class MathOperations with a class method add_numbers() to add two numbers\n",
        "#    and a static methodsubtract_numbers() to subtract two numbers.\n",
        "\n",
        "class MathOperations:\n",
        "    @classmethod\n",
        "    def add_numbers(cls, a, b):\n",
        "        return a + b\n",
        "\n",
        "    @staticmethod\n",
        "    def subtract_numbers(a, b):\n",
        "        return a - b\n",
        "\n",
        "result_add = MathOperations.add_numbers(25, 15)\n",
        "print(f\"Addition Result: {result_add}\")"
      ],
      "metadata": {
        "colab": {
          "base_uri": "https://localhost:8080/"
        },
        "id": "ep7ZMUICnpop",
        "outputId": "fd71da08-1d6b-47e8-c4f3-98182ac32d9c"
      },
      "execution_count": null,
      "outputs": [
        {
          "output_type": "stream",
          "name": "stdout",
          "text": [
            "Addition Result: 40\n"
          ]
        }
      ]
    },
    {
      "cell_type": "code",
      "source": [
        "result_subtract = MathOperations.subtract_numbers(110, 75)\n",
        "print(f\"Subtraction Result: {result_subtract}\")"
      ],
      "metadata": {
        "colab": {
          "base_uri": "https://localhost:8080/"
        },
        "id": "ER8QOIJKnpf6",
        "outputId": "ff01e807-36f0-44b6-ef43-ab90ffcca4d6"
      },
      "execution_count": null,
      "outputs": [
        {
          "output_type": "stream",
          "name": "stdout",
          "text": [
            "Subtraction Result: 35\n"
          ]
        }
      ]
    },
    {
      "cell_type": "code",
      "source": [
        "# 8. Implement a class Person with a class method to count the total number of persons created.\n",
        "\n",
        "class Person:\n",
        "    person_count = 0\n",
        "    def __init__(self, name, age):\n",
        "        self.name = name\n",
        "        self.age = age\n",
        "        Person.person_count += 1\n",
        "    @classmethod\n",
        "    def total_persons(cls):\n",
        "        return cls.person_count\n",
        "person1 = Person(\"Ajay\", 32)\n",
        "person2 = Person(\"Nikhil\", 35)\n",
        "person3 = Person(\"Bijay\", 33)\n",
        "print(f\"Total persons created: {Person.total_persons()}\")\n"
      ],
      "metadata": {
        "colab": {
          "base_uri": "https://localhost:8080/"
        },
        "id": "oPGcuCgLnpaq",
        "outputId": "f70b8db0-578e-41d5-89b5-81908d4bc3f1"
      },
      "execution_count": null,
      "outputs": [
        {
          "output_type": "stream",
          "name": "stdout",
          "text": [
            "Total persons created: 3\n"
          ]
        }
      ]
    },
    {
      "cell_type": "code",
      "source": [
        "# 9. Write a class Fraction with attributes numerator and denominator.\n",
        "#    Override the str method to display the fraction as \"numerator/denominator.\n",
        "\n",
        "class Fraction:\n",
        "    def __init__(self, numerator, denominator):\n",
        "        self.numerator = numerator\n",
        "        self.denominator = denominator\n",
        "\n",
        "    def __str__(self):\n",
        "        return f\"{self.numerator}/{self.denominator}\"\n",
        "\n",
        "fraction = Fraction(3, 4)\n",
        "print(fraction)"
      ],
      "metadata": {
        "colab": {
          "base_uri": "https://localhost:8080/"
        },
        "id": "DNQFsbNHnpUa",
        "outputId": "07b6226e-9b27-4388-a96a-3888636c31b0"
      },
      "execution_count": null,
      "outputs": [
        {
          "output_type": "stream",
          "name": "stdout",
          "text": [
            "3/4\n"
          ]
        }
      ]
    },
    {
      "cell_type": "code",
      "source": [
        "# 10.  Demonstrate operator overloading by creating a class Vector\n",
        "#       and overriding the add method to add two vectors.\n",
        "\n",
        "class Vector:\n",
        "    def __init__(self, x, y):\n",
        "        self.x = x\n",
        "        self.y = y\n",
        "    def __add__(self, other):\n",
        "        return Vector(self.x + other.x, self.y + other.y)\n",
        "\n",
        "    def __str__(self):\n",
        "        return f\"({self.x}, {self.y})\"\n",
        "\n",
        "v1 = Vector(7, 8)\n",
        "v2 = Vector(8, 6)\n",
        "\n",
        "result = v1 + v2\n",
        "print(result)\n"
      ],
      "metadata": {
        "colab": {
          "base_uri": "https://localhost:8080/"
        },
        "id": "YPCLzlUMobwl",
        "outputId": "c9c4b9cc-4b8c-4a0e-c6e1-3e09c3d94fe4"
      },
      "execution_count": null,
      "outputs": [
        {
          "output_type": "stream",
          "name": "stdout",
          "text": [
            "(15, 14)\n"
          ]
        }
      ]
    },
    {
      "cell_type": "code",
      "source": [
        "# 11. Create a class Person with attributes name and age.\n",
        "#     Add a method greet() that prints \"Hello, my name is {name} and I am {age} years old.\"\n",
        "\n",
        "class Person:\n",
        "    def __init__(self, name, age):\n",
        "        self.name = name\n",
        "        self.age = age\n",
        "\n",
        "    def greet(self):\n",
        "        print(f\"Hello, my name is {self.name} and I am {self.age} years old.\")\n",
        "\n",
        "person1 = Person(\"Nikhil\", 35)\n",
        "person1.greet()"
      ],
      "metadata": {
        "colab": {
          "base_uri": "https://localhost:8080/"
        },
        "id": "5YsRcM5zobp7",
        "outputId": "d777f48a-f1d3-49f3-8a59-b79295436603"
      },
      "execution_count": null,
      "outputs": [
        {
          "output_type": "stream",
          "name": "stdout",
          "text": [
            "Hello, my name is Nikhil and I am 35 years old.\n"
          ]
        }
      ]
    },
    {
      "cell_type": "code",
      "source": [
        "# 12. Implement a class Student with attributes name and grades. Create a method average_grade()\n",
        "#     to compute the average of the grades.\n",
        "\n",
        "class Student:\n",
        "    def __init__(self, name, grades):\n",
        "        self.name = name\n",
        "        self.grades = grades\n",
        "\n",
        "    def average_grade(self):\n",
        "        if len(self.grades) == 0:\n",
        "            return 0\n",
        "        return sum(self.grades) / len(self.grades)\n",
        "\n",
        "student1 = Student(\"Ajay\", [85, 90, 78, 92, 88])\n",
        "print(f\"Average grade of {student1.name}: {student1.average_grade():.2f}\")\n"
      ],
      "metadata": {
        "colab": {
          "base_uri": "https://localhost:8080/"
        },
        "id": "vPrcs2Nzobka",
        "outputId": "0bd6269e-146d-40b4-9ae6-392706b78a0b"
      },
      "execution_count": null,
      "outputs": [
        {
          "output_type": "stream",
          "name": "stdout",
          "text": [
            "Average grade of Ajay: 86.60\n"
          ]
        }
      ]
    },
    {
      "cell_type": "code",
      "source": [
        "# 13. Create a class Rectangle with methods set_dimensions() to set the dimensions and area()\n",
        "#     to calculate the area.\n",
        "\n",
        "class Rectangle:\n",
        "    def __init__(self):\n",
        "        self.length = 0\n",
        "        self.width = 0\n",
        "\n",
        "    def set_dimensions(self, length, width):\n",
        "        self.length = length\n",
        "        self.width = width\n",
        "\n",
        "    def area(self):\n",
        "        return self.length * self.width\n",
        "\n",
        "\n",
        "rect = Rectangle()\n",
        "rect.set_dimensions(15, 8)\n",
        "print(f\"Area of rectangle: {rect.area()}\")\n"
      ],
      "metadata": {
        "colab": {
          "base_uri": "https://localhost:8080/"
        },
        "id": "q8JWuCetobdq",
        "outputId": "e5e3767a-e7da-464e-f2c9-544254b86b89"
      },
      "execution_count": null,
      "outputs": [
        {
          "output_type": "stream",
          "name": "stdout",
          "text": [
            "Area of rectangle: 120\n"
          ]
        }
      ]
    },
    {
      "cell_type": "code",
      "source": [
        "# 14. Create a class Employee with a method calculate_salary() that computes the salary\n",
        "#     based on hours worked and hourly rate. Create a derived class Manager that adds a bonus to the salary.\n",
        "\n",
        "\n",
        "class Employee:\n",
        "    def __init__(self, hours_worked, hourly_rate):\n",
        "        self.hours_worked = hours_worked\n",
        "        self.hourly_rate = hourly_rate\n",
        "\n",
        "    def calculate_salary(self):\n",
        "        return self.hours_worked * self.hourly_rate\n",
        "\n",
        "class Manager(Employee):\n",
        "    def __init__(self, hours_worked, hourly_rate, bonus):\n",
        "        super().__init__(hours_worked, hourly_rate)\n",
        "        self.bonus = bonus\n",
        "\n",
        "    def calculate_salary(self):\n",
        "        base_salary = super().calculate_salary()\n",
        "        return base_salary + self.bonus\n",
        "\n",
        "\n",
        "employee = Employee(50, 30)\n",
        "print(f\"Employee Salary: {employee.calculate_salary()}\")\n",
        "\n",
        "\n",
        "manager = Manager(70, 25, 400)\n",
        "print(f\"Manager Salary: {manager.calculate_salary()}\")\n"
      ],
      "metadata": {
        "colab": {
          "base_uri": "https://localhost:8080/"
        },
        "id": "-3TE0ZndobZC",
        "outputId": "ef4e53f9-5f24-407a-88a7-5cd4acd681dc"
      },
      "execution_count": null,
      "outputs": [
        {
          "output_type": "stream",
          "name": "stdout",
          "text": [
            "Employee Salary: 1500\n",
            "Manager Salary: 2150\n"
          ]
        }
      ]
    },
    {
      "cell_type": "code",
      "source": [
        "# 15. Create a class Product with attributes name, price, and quantity. Implement a method\n",
        "#     total_price() that calculates the total price of the product.\n",
        "\n",
        "class Product:\n",
        "    def __init__(self, name, price, quantity):\n",
        "        self.name = name\n",
        "        self.price = price\n",
        "        self.quantity = quantity\n",
        "\n",
        "    def total_price(self):\n",
        "        return self.price * self.quantity\n",
        "\n",
        "product = Product(\"LED TV\", 1500, 4)\n",
        "print(f\"Total price of {product.name}: {product.total_price()}\")\n"
      ],
      "metadata": {
        "colab": {
          "base_uri": "https://localhost:8080/"
        },
        "id": "I4C_-kYOpSKQ",
        "outputId": "9bf1a8c8-5c8b-4022-9d38-0a45809a1d40"
      },
      "execution_count": null,
      "outputs": [
        {
          "output_type": "stream",
          "name": "stdout",
          "text": [
            "Total price of LED TV: 6000\n"
          ]
        }
      ]
    },
    {
      "cell_type": "code",
      "source": [
        "# 16. Create a class Animal with an abstract method sound().\n",
        "#     Create two derived classes Cow and Sheep that implement the sound() method.\n",
        "\n",
        "class Animal(ABC):\n",
        "    @abstractmethod\n",
        "    def sound(self):\n",
        "        pass\n",
        "\n",
        "class Cow(Animal):\n",
        "    def sound(self):\n",
        "        return \"Moo\"\n",
        "\n",
        "class Sheep(Animal):\n",
        "    def sound(self):\n",
        "        return \"Baa\"\n",
        "\n",
        "c1 = Cow()\n",
        "s1 = Sheep()\n",
        "\n",
        "print(f\"Cow sound: {c1.sound()}\")\n",
        "print(f\"Sheep sound: {s1.sound()}\")\n"
      ],
      "metadata": {
        "colab": {
          "base_uri": "https://localhost:8080/"
        },
        "id": "CTnGXhEspSBk",
        "outputId": "62b8da6c-8a6f-4bac-d486-490c582ebeb9"
      },
      "execution_count": null,
      "outputs": [
        {
          "output_type": "stream",
          "name": "stdout",
          "text": [
            "Cow sound: Moo\n",
            "Sheep sound: Baa\n"
          ]
        }
      ]
    },
    {
      "cell_type": "code",
      "source": [
        "# 17. Create a class Book with attributes title, author, and year_published.\n",
        "#     Add a method get_book_info() that returns a formatted string with the book's details.\n",
        "\n",
        "class Book:\n",
        "    def __init__(self, title, author, year_published):\n",
        "        self.title = title\n",
        "        self.author = author\n",
        "        self.year_published = year_published\n",
        "\n",
        "    def get_book_info(self):\n",
        "        return f\"Title: {self.title}\\nAuthor: {self.author}\\nYear Published: {self.year_published}\"\n",
        "\n",
        "\n",
        "book = Book(\"1989\", \"Nikolas Jaiswal\", 2021)\n",
        "print(book.get_book_info())"
      ],
      "metadata": {
        "colab": {
          "base_uri": "https://localhost:8080/"
        },
        "id": "Rje0bL6FpR-H",
        "outputId": "ef125421-92b2-407f-a0b3-b768f590c72e"
      },
      "execution_count": null,
      "outputs": [
        {
          "output_type": "stream",
          "name": "stdout",
          "text": [
            "Title: 1989\n",
            "Author: Nikolas Jaiswal\n",
            "Year Published: 2021\n"
          ]
        }
      ]
    },
    {
      "cell_type": "code",
      "source": [
        "# 18. Create a class House with attributes address and price.\n",
        "#     Create a derived class Mansion that adds an attribute number_of_rooms.\n",
        "\n",
        "class House:\n",
        "    def __init__(self, address, price):\n",
        "        self.address = address\n",
        "        self.price = price\n",
        "\n",
        "    def get_info(self):\n",
        "        return f\"Address: {self.address}\\nPrice: {self.price}\"\n",
        "\n",
        "class Mansion(House):\n",
        "    def __init__(self, address, price, number_of_rooms):\n",
        "        super().__init__(address, price)\n",
        "        self.number_of_rooms = number_of_rooms\n",
        "\n",
        "    def get_info(self):\n",
        "        base_info = super().get_info()\n",
        "        return f\"{base_info}\\nNumber of Rooms: {self.number_of_rooms}\"\n",
        "\n",
        "house = House(\"789 Main Road, Ranchi\", 150000)\n",
        "mansion = Mansion(\"456 Luxury B1h2, Morabadi Hills\", 500000, 12)\n",
        "\n",
        "print(\"House Info:\")\n",
        "print(house.get_info())"
      ],
      "metadata": {
        "colab": {
          "base_uri": "https://localhost:8080/"
        },
        "id": "_KiAs62_pR6X",
        "outputId": "2bac814e-d9ae-4dfe-fc96-03e717d8dca1"
      },
      "execution_count": null,
      "outputs": [
        {
          "output_type": "stream",
          "name": "stdout",
          "text": [
            "House Info:\n",
            "Address: 789 Main Road, Ranchi\n",
            "Price: 150000\n"
          ]
        }
      ]
    },
    {
      "cell_type": "code",
      "source": [
        "print(\"\\nMansion Info:\")\n",
        "print(mansion.get_info())"
      ],
      "metadata": {
        "colab": {
          "base_uri": "https://localhost:8080/"
        },
        "id": "HPuetdm7pR2o",
        "outputId": "b8f23699-efa9-498b-91cc-92df7e156780"
      },
      "execution_count": null,
      "outputs": [
        {
          "output_type": "stream",
          "name": "stdout",
          "text": [
            "\n",
            "Mansion Info:\n",
            "Address: 456 Luxury B1h2, Morabadi Hills\n",
            "Price: 500000\n",
            "Number of Rooms: 12\n"
          ]
        }
      ]
    },
    {
      "cell_type": "code",
      "source": [],
      "metadata": {
        "id": "ml71XA8KpRxw"
      },
      "execution_count": null,
      "outputs": []
    },
    {
      "cell_type": "code",
      "source": [],
      "metadata": {
        "id": "flL-0PK0pRoh"
      },
      "execution_count": null,
      "outputs": []
    }
  ]
}